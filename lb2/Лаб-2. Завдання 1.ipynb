{
 "cells": [
  {
   "cell_type": "markdown",
   "metadata": {},
   "source": [
    "#  Лабораторна робота №2\n",
    "### навчально-методичний додаток\n",
    "***"
   ]
  },
  {
   "cell_type": "markdown",
   "metadata": {},
   "source": [
    "## Завдання №1 \" Конструкції Python\"\n",
    "- заповнити пусті рядки вашим рішенням"
   ]
  },
  {
   "cell_type": "markdown",
   "metadata": {},
   "source": [
    "### Змінні\n",
    "\n",
    "Ім'я, яке використовується для позначення чогось або значення, називається **змінною**. У python можна оголошувати змінні і присвоювати йому значення наступним чином:\n",
    "\n",
    "- x = 10             \n",
    "- y = -3.1428         \n",
    "- s = \"Вася Пупкін\"\n",
    "- a = [x, y, s]\n",
    "- b = False\n",
    "- t = (y, \"Студент\")\n",
    "\n",
    "---\n",
    "_[Прочитати про типи даних](https://uk.education-wiki.com/2923901-python-data-types)_\n",
    "\n",
    "Тип даних можна перевірити наступною інструкцією: `type(<імя змінної>)`"
   ]
  },
  {
   "cell_type": "code",
   "execution_count": null,
   "metadata": {
    "run_control": {
     "marked": false
    }
   },
   "outputs": [],
   "source": [
    "# виконайте присвоювання та виведіть типи даних x, y, s, b, t:\n",
    "x = 10\n",
    "y = -3.1428\n",
    "s = \"Вася Пупкiн\"\n",
    "a = [x, y, s]\n",
    "b = False\n",
    "t = (y, \"Студент\")\n",
    "print(type(x))\n",
    "print(type(y))\n",
    "print(type(s))\n",
    "print(type(a))\n",
    "print(type(b))\n",
    "print(type(t))"
   ]
  },
  {
   "cell_type": "markdown",
   "metadata": {
    "heading_collapsed": true
   },
   "source": [
    "### Опрератори\n",
    "\n",
    "#### арифметичні\n",
    "\n",
    "| Позначка | Виконує |\n",
    "|----|---|\n",
    "| +  | Додавання |\n",
    "| -  | Віднімання |\n",
    "| /  | поділ |\n",
    "| %  | остаток від ділення |\n",
    "| *  | множення |\n",
    "| //  | цілочісельне ділення |\n",
    "| **  | ступінь |"
   ]
  },
  {
   "cell_type": "code",
   "execution_count": null,
   "metadata": {
    "hidden": true
   },
   "outputs": [],
   "source": [
    "# застосуйте вищенаведені оператори до `x` та `y`:\n",
    "print(x + y)\n",
    "print(x - y)\n",
    "print(x / y)\n",
    "print(x % y)\n",
    "print(x * y)\n",
    "print(x // y)\n",
    "print(x ** y)"
   ]
  },
  {
   "cell_type": "markdown",
   "metadata": {
    "hidden": true
   },
   "source": [
    "#### порівняння\n",
    "| Позначка | Результат |\n",
    "|----|---|\n",
    "| == | True, якщо рівні |\n",
    "| !=  | True, якщо не рівні |\n",
    "| < | менше |\n",
    "| > | більше |\n",
    "| <=  | менше чи равно |\n",
    "| >=  | більше чи равно |"
   ]
  },
  {
   "cell_type": "code",
   "execution_count": null,
   "metadata": {
    "hidden": true
   },
   "outputs": [],
   "source": [
    "# застосуйте вищенаведені оператори до `x` та `y`:\n",
    "print(x == y)\n",
    "print(x != y)\n",
    "print(x < y)\n",
    "print(x > y)\n",
    "print(x <= y)\n",
    "print(x >= y)"
   ]
  },
  {
   "cell_type": "markdown",
   "metadata": {},
   "source": [
    "### Вбудовані функції перетворення типів\n",
    "1. str(<змінна чи вираз>) - перетворення в строку\n",
    "2. int(<змінна чи вираз>) - перетворення в ціле\n",
    "3. float(<змінна чи вираз>) - перетворення в дийсне число\n",
    "\n",
    "[Прочитати про інші функції перетворення типів](http://nikolay.in.ua/navchaemos/python-3/612-tipi-danikh-funktsiji-peretvorennya-tipiv-operatsiji-z-chislovimi-tipami)\n"
   ]
  },
  {
   "cell_type": "code",
   "execution_count": null,
   "metadata": {},
   "outputs": [],
   "source": [
    "# застосуйте (1) функцію до змінних 'x' - 't' , (2) до `x` - 's', (3) - `x` - `y`\n",
    "# (якщо будуть помилки - виправте їх самотуж)\n",
    "print(str(x), type(str(x)))\n",
    "print(str(t), type(str(t)))\n",
    "print(int(x), type(str(x)))\n",
    "# print(int(s), type(str(s))) string 'Вася Пупкiн' не переводится в int ValueError: invalid literal for int() with base 10: 'Вася Пупкiн'\n",
    "print(float(x), type(str(x)))\n",
    "print(float(y), type(str(y)))"
   ]
  },
  {
   "cell_type": "markdown",
   "metadata": {},
   "source": [
    "## Завдання №3 \"Введення/вивід з консолі\"\n"
   ]
  },
  {
   "cell_type": "markdown",
   "metadata": {},
   "source": [
    "- __input__([символьний вираз]) - введення с консолі в _символьному форматі_ (__STDIN__) \n",
    "- __print__(<вираз>) - виведення в консоль (__STDOUT__)\n",
    "\n",
    "Для зчитування рядка зі стандартного вводу використовується функція input (), яка зчитує рядок з клавіатури і повертає значення, яке відразу ж можна привласнити змінним:\n",
    "`s = input()`\n",
    "\n",
    "Функція `input` повертає текстовий рядок. Якщо потрібно зробити так, щоб змінні мали чисельні значення, то відразу ж після зчитування виконаємо перетворення типів за допомогою функції `int` або `float`, і запишемо нове значення:\n",
    "`s1 = int(s)`\n",
    "\n",
    "Краще об'єднати зчитування рядків і перетворення типів, якщо викликати функцію int/float для того значення, яке поверне функція input ():\n",
    "`s = int(input())`"
   ]
  },
  {
   "cell_type": "code",
   "execution_count": 7,
   "metadata": {},
   "outputs": [],
   "source": [
    "# ввести з консолі число 2.71 в змінну 'e'\n",
    "e = float(input())"
   ]
  },
  {
   "cell_type": "code",
   "execution_count": 8,
   "metadata": {},
   "outputs": [
    {
     "name": "stdout",
     "output_type": "stream",
     "text": [
      "146.1660310351\n"
     ]
    }
   ],
   "source": [
    "# вивести в консоль 'е' в супені 5\n",
    "print(pow(e, 5))"
   ]
  },
  {
   "cell_type": "markdown",
   "metadata": {},
   "source": [
    "#### форматування  при виведенні\n",
    "у Python для позначення рядка використовуються одинарні, подвійні та потрійні лапки. Більшість використовують одинарні лапки при оголошенні одного символу. Подвійні лапки при оголошенні рядка та потрійні лапки при оголошенні абзацу / кількох рядків.\n",
    "\n",
    "- 'A' - одиночний символ\n",
    "- \"Студент Вася\" - рядок символів\n",
    "- \"\"\" Перший рядок \n",
    "    \n",
    "      Другий рядок\n",
    "      \n",
    "      ...\"\"\"\n"
   ]
  },
  {
   "cell_type": "code",
   "execution_count": 11,
   "metadata": {},
   "outputs": [
    {
     "name": "stdout",
     "output_type": "stream",
     "text": [
      "Вася Пупкін\n",
      "1+1 -> 2\n"
     ]
    }
   ],
   "source": [
    "# Рядки можуть бути призначені змінним наприкалд `name` та `surname`, \n",
    "# які можна викликати при використанні оператора print.\n",
    "# Виконайте код, який наведено нижче\n",
    "name = \"Вася\"\n",
    "surname = \"Пупкін\"\n",
    "print (name, surname)\n",
    "print(\"1+1\", 2, sep=\" -> \")"
   ]
  },
  {
   "attachments": {},
   "cell_type": "markdown",
   "metadata": {},
   "source": [
    "Напишіть нижче, для чого нужна '`,`' та `sep` в функції `print()`:\n",
    "\n",
    "sep всавляет значение между всеми элементами print()"
   ]
  },
  {
   "cell_type": "markdown",
   "metadata": {},
   "source": [
    "### форматування в функції `print()`\n",
    "\n",
    "[Прочитати про методи форматування вивода](https://python-scripts.com/string-formatting)"
   ]
  },
  {
   "cell_type": "code",
   "execution_count": 13,
   "metadata": {
    "run_control": {
     "marked": false
    }
   },
   "outputs": [
    {
     "name": "stdout",
     "output_type": "stream",
     "text": [
      "Вася Пупкін - це студент\n",
      "Результат буде = 12.4\n",
      "Вася - True хлопець!\n",
      "Пупкін Вася\n",
      "Я розiбрався\n"
     ]
    }
   ],
   "source": [
    "# виконати код та розібратись, чому функція `print()...format` спрацювала таким чином\n",
    "print(\"{} {} - це студент\".format(name, surname))\n",
    "print(\"Результат буде = {}\".format(42 / 5 + 4))\n",
    "b = True\n",
    "print(\"{} - {} хлопець!\".format(name, b))\n",
    "print(\"{} {}\".format(surname, name))\n",
    "print(\"{} {}\".format(\"Я\", \"розiбрався\"))"
   ]
  },
  {
   "cell_type": "markdown",
   "metadata": {},
   "source": [
    "## Завдання №4 \"Керування обчисленнями\""
   ]
  },
  {
   "cell_type": "markdown",
   "metadata": {
    "run_control": {
     "marked": false
    }
   },
   "source": [
    "### Умовний оператор if / if-else / if-elif"
   ]
  },
  {
   "cell_type": "markdown",
   "metadata": {},
   "source": [
    "`if <логічний вираз(умова)> :\n",
    "  <код>`\n",
    "  \n",
    "`if <логічний вираз(умова)> :\n",
    "  <код>\n",
    " else :\n",
    "    <код>`\n",
    "\n",
    "`if <логічний вираз(умова)> :\n",
    "  <код>\n",
    " elif <логічний вираз_1(умова)> :\n",
    "  <код>\n",
    " elif <логічний вираз_2(умова)> :\n",
    "  <код>\n",
    "... \n",
    " [else] :\n",
    "   <код>`"
   ]
  },
  {
   "cell_type": "code",
   "execution_count": null,
   "metadata": {},
   "outputs": [],
   "source": [
    "x = int(input(\"Введи x: \"))\n",
    "\n",
    "# ----- 1 ----------\n",
    "if x > 5:\n",
    "    print (x)\n",
    "    \n",
    "# ----- 2 ----------    \n",
    "if -5 < x < 5 :\n",
    "    print (x)\n",
    "else:\n",
    "    print (x ** 2)\n",
    "    \n",
    "# ----- 3 ----------\n",
    "if x > -5:\n",
    "    print (x)\n",
    "elif -5 < x < 5:\n",
    "    print (x ** 2)\n",
    "elif x > 5:\n",
    "    print (x ** (1/2))"
   ]
  },
  {
   "attachments": {},
   "cell_type": "markdown",
   "metadata": {},
   "source": [
    "напишіть, який __if__ спрацював при:\n",
    "\n",
    "x = -20     (2)\n",
    "\n",
    "x = 31.5    (none) int x не принемает float\n",
    "\n",
    "x = 4       (2, 3)"
   ]
  },
  {
   "cell_type": "code",
   "execution_count": null,
   "metadata": {},
   "outputs": [],
   "source": [
    "# напишить нижче код, який виводить слово 'студент', 'школяр' або 'малятко' \n",
    "# в залежності від введенного через консоль віку\n",
    "\n",
    "years = int(input())\n",
    "if 0 < years < 7:\n",
    "    print('малятко')\n",
    "elif 7 <= years < 18:\n",
    "    print('школяр')\n",
    "elif 18<= years < 24:\n",
    "    print('студент')\n",
    "        "
   ]
  },
  {
   "cell_type": "markdown",
   "metadata": {},
   "source": [
    "### Цикли"
   ]
  },
  {
   "cell_type": "markdown",
   "metadata": {},
   "source": [
    "#### for\n",
    "\n",
    "`for <змінна> in <перераховуємий об'єкт>\n",
    "    код`\n",
    "    \n",
    "    \n",
    "__перераховуємий об'єкт__ - це об'єкт, який складається із декількох послідовних складових (чисел, строк та ін.)\n",
    "\n",
    "- 1, 13, -10, 321\n",
    "- \"Вася\", \"Пупкін\", \"студент\"\n",
    "- \"Вася\", -10.1, True\n",
    "\n",
    "[Прочитати про функцію `range`](https://python-scripts.com/range)"
   ]
  },
  {
   "cell_type": "code",
   "execution_count": 23,
   "metadata": {},
   "outputs": [
    {
     "name": "stdout",
     "output_type": "stream",
     "text": [
      "-1\n",
      "-3\n",
      "-5\n",
      "-7\n",
      "-9\n"
     ]
    }
   ],
   "source": [
    "# приклад цикла з 'for' та 'if'\n",
    "for i in range(10):\n",
    "    if i % 2 != 0:\n",
    "        print (-i)\n",
    "    else:\n",
    "        pass"
   ]
  },
  {
   "attachments": {},
   "cell_type": "markdown",
   "metadata": {},
   "source": [
    "напишить своїми словами, що виконує наведений вище код\n",
    "\n",
    "нечетные числа в range(10) умножает на -1 и выводит в консоль"
   ]
  },
  {
   "cell_type": "code",
   "execution_count": 30,
   "metadata": {},
   "outputs": [
    {
     "name": "stdout",
     "output_type": "stream",
     "text": [
      "1665\n"
     ]
    }
   ],
   "source": [
    "# напишіть нижче код, який сумує числа, які діляться без остатка на 3 \n",
    "# в інтервалі від 10 до 100\n",
    "sum = 0\n",
    "for i in range(10, 100):\n",
    "    if i % 3 == 0:\n",
    "        sum += i\n",
    "    else:\n",
    "        pass\n",
    "print(sum)\n"
   ]
  },
  {
   "cell_type": "markdown",
   "metadata": {},
   "source": [
    "#### while\n",
    "\n",
    "[прочитати про цикл while](https://pythonru.com/osnovy/cikl-while-v-python)"
   ]
  },
  {
   "cell_type": "code",
   "execution_count": null,
   "metadata": {},
   "outputs": [],
   "source": [
    "# запустіть цей код \n",
    "while(input(\"тисни тут: \") != '0'):\n",
    "    print (\"було введено\")"
   ]
  },
  {
   "attachments": {},
   "cell_type": "markdown",
   "metadata": {},
   "source": [
    "поясніть своїми словами, що виконує наведений вище код\n",
    "\n",
    "выполняет input(\"тисни тут: \") != '0'):\n",
    "    print (\"було введено\")\n",
    "пока не будет введен '0'"
   ]
  },
  {
   "cell_type": "code",
   "execution_count": 40,
   "metadata": {},
   "outputs": [
    {
     "name": "stdout",
     "output_type": "stream",
     "text": [
      "1665\n"
     ]
    }
   ],
   "source": [
    "# використовуючи 'while`напишіть нижче код, який сумує числа, \n",
    "# які діляться без остатка на 3 в інтервалі від 10 до 100\n",
    "i = 10\n",
    "sum2 = 0\n",
    "while (i <= 100):\n",
    "    if i % 3 == 0:\n",
    "        sum2 += i\n",
    "    else:\n",
    "        pass\n",
    "    i += 1\n",
    "print(sum2)\n"
   ]
  },
  {
   "cell_type": "markdown",
   "metadata": {},
   "source": [
    "## Виконану роботу перешліть через Teams викладачу"
   ]
  }
 ],
 "metadata": {
  "kernelspec": {
   "display_name": "Python 3",
   "language": "python",
   "name": "python3"
  },
  "language_info": {
   "codemirror_mode": {
    "name": "ipython",
    "version": 3
   },
   "file_extension": ".py",
   "mimetype": "text/x-python",
   "name": "python",
   "nbconvert_exporter": "python",
   "pygments_lexer": "ipython3",
   "version": "3.11.2"
  },
  "varInspector": {
   "cols": {
    "lenName": 16,
    "lenType": 16,
    "lenVar": 40
   },
   "kernels_config": {
    "python": {
     "delete_cmd_postfix": "",
     "delete_cmd_prefix": "del ",
     "library": "var_list.py",
     "varRefreshCmd": "print(var_dic_list())"
    },
    "r": {
     "delete_cmd_postfix": ") ",
     "delete_cmd_prefix": "rm(",
     "library": "var_list.r",
     "varRefreshCmd": "cat(var_dic_list()) "
    }
   },
   "types_to_exclude": [
    "module",
    "function",
    "builtin_function_or_method",
    "instance",
    "_Feature"
   ],
   "window_display": false
  },
  "vscode": {
   "interpreter": {
    "hash": "7651fe4b97ed962105d2251f51e63396576c163ae9eef397da5ca663e3901537"
   }
  }
 },
 "nbformat": 4,
 "nbformat_minor": 2
}
